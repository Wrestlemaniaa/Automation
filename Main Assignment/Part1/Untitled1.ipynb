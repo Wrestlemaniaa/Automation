{
 "cells": [
  {
   "cell_type": "code",
   "execution_count": 8,
   "metadata": {},
   "outputs": [],
   "source": [
    "import pandas as pd\n",
    "import datetime\n",
    "import numpy as np\n",
    "import pickle\n",
    "import sklearn\n",
    "from sklearn.cross_validation import train_test_split \n",
    "from sklearn.ensemble import RandomForestRegressor\n",
    "from sklearn import linear_model\n",
    "from sklearn.metrics import *\n",
    "from sklearn.neural_network import MLPRegressor\n",
    "from sklearn.svm import SVR\n",
    "from sklearn.neighbors import KNeighborsRegressor\n",
    "from sklearn.preprocessing import StandardScaler\n",
    "scaler = StandardScaler()"
   ]
  },
  {
   "cell_type": "code",
   "execution_count": 9,
   "metadata": {
    "collapsed": true
   },
   "outputs": [],
   "source": [
    "col_list=['Page_popularity','Page_visited_no_of_times','Page_talking_about','Page_category','c1','c2','c3','c4','c5','c6','c7','c8',\n",
    "         'c9','c10','c11','c12','c13','c14','c15','c16','c17','c18','c19','c20','c21','c22','c23','c24','c25','CC1','CC2','CC3','CC4','CC5',\n",
    "         'Base_time','Post_length_char_count','Post_share_count','Post_promoted','Time_target','Sunday_post','Monday_post',\n",
    "         'Tuesday_post','Wednesday_post','Thrusday_post','Friday_post','Saturday_post','Sunday_base','Monday_base','Tuesday_base','Wednesday_base',\n",
    "         'Thrusday_base','Friday_base','Saturday_base','Target_variable']\n",
    "df=pd.read_csv(\"Dataset/Training/Features_Variant_1.csv\")\n",
    "df.columns=col_list"
   ]
  },
  {
   "cell_type": "code",
   "execution_count": 22,
   "metadata": {
    "scrolled": true
   },
   "outputs": [
    {
     "name": "stdout",
     "output_type": "stream",
     "text": [
      "(602808, 54)\n"
     ]
    },
    {
     "data": {
      "text/plain": [
       "Page_popularity             559471\n",
       "Page_visited_no_of_times    559471\n",
       "Page_talking_about          559471\n",
       "Page_category               559471\n",
       "c1                          559471\n",
       "c2                          559471\n",
       "c3                          559471\n",
       "c4                          559471\n",
       "c5                          559471\n",
       "c6                          559471\n",
       "c7                          559471\n",
       "c8                          559471\n",
       "c9                          559471\n",
       "c10                         559471\n",
       "c11                         559471\n",
       "c12                         559471\n",
       "c13                         559471\n",
       "c14                         559471\n",
       "c15                         559471\n",
       "c16                         559471\n",
       "c17                         559471\n",
       "c18                         559471\n",
       "c19                         559471\n",
       "c20                         559471\n",
       "c21                         559471\n",
       "c22                         559471\n",
       "c23                         559471\n",
       "c24                         559471\n",
       "c25                         559471\n",
       "CC1                         559471\n",
       "CC2                         559471\n",
       "CC3                         559471\n",
       "CC4                         559471\n",
       "CC5                         559471\n",
       "Base_time                   559471\n",
       "Post_length_char_count      559471\n",
       "Post_share_count            559471\n",
       "Post_promoted               559471\n",
       "Time_target                 559471\n",
       "Sunday_post                 559471\n",
       "Monday_post                 559471\n",
       "Tuesday_post                559471\n",
       "Wednesday_post              559471\n",
       "Thrusday_post               559471\n",
       "Friday_post                 559471\n",
       "Saturday_post               559471\n",
       "Sunday_base                 559471\n",
       "Monday_base                 559471\n",
       "Tuesday_base                559471\n",
       "Wednesday_base              559471\n",
       "Thrusday_base               559471\n",
       "Friday_base                 559471\n",
       "Saturday_base               559471\n",
       "Target_variable             559471\n",
       "dtype: int64"
      ]
     },
     "execution_count": 22,
     "metadata": {},
     "output_type": "execute_result"
    }
   ],
   "source": [
    "print (df.shape)\n",
    "df.head()"
   ]
  },
  {
   "cell_type": "code",
   "execution_count": 16,
   "metadata": {},
   "outputs": [
    {
     "name": "stdout",
     "output_type": "stream",
     "text": [
      "(421965, 10) , (100, 10) , (421965,) , (100,)\n"
     ]
    }
   ],
   "source": [
    "column_list1=['CC2','Base_time','Post_share_count','c3','c8','c18','CC1','CC4','Post_length_char_count','CC5']\n",
    "x=df[column_list1]\n",
    "scaler.fit(x)\n",
    "x_sc=scaler.transform(x)\n",
    "print(x.shape)"
   ]
  },
  {
   "cell_type": "code",
   "execution_count": 6,
   "metadata": {
    "collapsed": true
   },
   "outputs": [],
   "source": [
    "d1=df.copy()\n",
    "filename = 'Models/Linear_model.sav'\n",
    "mod = pickle.load(open(filename, 'rb'))\n",
    "d1['Target_variable']=mod.predict(x_test_sc)\n",
    "d1.to_csv('Output/Linear.csv',sep=',',index=False)"
   ]
  },
  {
   "cell_type": "code",
   "execution_count": null,
   "metadata": {
    "collapsed": true
   },
   "outputs": [],
   "source": [
    "d2=df.copy()\n",
    "filename = 'Models/RF_model.sav'\n",
    "mod = pickle.load(open(filename, 'rb'))\n",
    "d2['Target_variable']=mod.predict(x_test_sc)\n",
    "d2.to_csv('Output/RF.csv',sep=',',index=False)"
   ]
  },
  {
   "cell_type": "code",
   "execution_count": null,
   "metadata": {
    "collapsed": true
   },
   "outputs": [],
   "source": [
    "d3=df.copy()\n",
    "filename = 'Models/NN_model.sav'\n",
    "mod = pickle.load(open(filename, 'rb'))\n",
    "d3['Target_variable']=mod.predict(x_test_sc)\n",
    "d3.to_csv('Output/NN.csv',sep=',',index=False)"
   ]
  },
  {
   "cell_type": "code",
   "execution_count": null,
   "metadata": {
    "collapsed": true
   },
   "outputs": [],
   "source": [
    "d4=df.copy()\n",
    "filename = 'Models/KNN_model.sav'\n",
    "mod = pickle.load(open(filename, 'rb'))\n",
    "d4['Target_variable']=mod.predict(x_test_sc)\n",
    "d4.to_csv('Output/KNN.csv',sep=',',index=False)"
   ]
  },
  {
   "cell_type": "code",
   "execution_count": null,
   "metadata": {
    "collapsed": true
   },
   "outputs": [],
   "source": [
    "d5=df.copy()\n",
    "filename = 'Models/SVR_model.sav'\n",
    "mod = pickle.load(open(filename, 'rb'))\n",
    "d5['Target_variable']=mod.predict(x_test_sc)\n",
    "d5.to_csv('Output/SVR.csv',sep=',',index=False)"
   ]
  },
  {
   "cell_type": "code",
   "execution_count": 23,
   "metadata": {},
   "outputs": [
    {
     "data": {
      "text/plain": [
       "'C:\\\\Users\\\\Akash\\\\Documents\\\\ADS\\\\Assigment3\\\\Part1\\\\Models1.zip'"
      ]
     },
     "execution_count": 23,
     "metadata": {},
     "output_type": "execute_result"
    }
   ],
   "source": [
    "import shutil\n",
    "shutil.make_archive(\"Models1\", 'zip', \"Models\")"
   ]
  },
  {
   "cell_type": "code",
   "execution_count": 29,
   "metadata": {},
   "outputs": [],
   "source": [
    "shutil.unpack_archive(\"Models1.zip\",extract_dir='Models1')"
   ]
  },
  {
   "cell_type": "code",
   "execution_count": null,
   "metadata": {
    "collapsed": true
   },
   "outputs": [],
   "source": []
  }
 ],
 "metadata": {
  "kernelspec": {
   "display_name": "Python 3",
   "language": "python",
   "name": "python3"
  },
  "language_info": {
   "codemirror_mode": {
    "name": "ipython",
    "version": 3
   },
   "file_extension": ".py",
   "mimetype": "text/x-python",
   "name": "python",
   "nbconvert_exporter": "python",
   "pygments_lexer": "ipython3",
   "version": "3.6.3"
  }
 },
 "nbformat": 4,
 "nbformat_minor": 2
}
