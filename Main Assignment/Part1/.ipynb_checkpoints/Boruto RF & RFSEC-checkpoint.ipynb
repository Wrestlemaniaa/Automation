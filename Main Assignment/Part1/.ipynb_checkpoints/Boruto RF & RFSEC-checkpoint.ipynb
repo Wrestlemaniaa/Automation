{
 "cells": [
  {
   "cell_type": "code",
   "execution_count": 1,
   "metadata": {},
   "outputs": [
    {
     "name": "stderr",
     "output_type": "stream",
     "text": [
      "C:\\ProgramData\\Anaconda3\\lib\\site-packages\\sklearn\\cross_validation.py:41: DeprecationWarning: This module was deprecated in version 0.18 in favor of the model_selection module into which all the refactored classes and functions are moved. Also note that the interface of the new CV iterators are different from that of this module. This module will be removed in 0.20.\n",
      "  \"This module will be removed in 0.20.\", DeprecationWarning)\n",
      "C:\\ProgramData\\Anaconda3\\lib\\site-packages\\sklearn\\grid_search.py:42: DeprecationWarning: This module was deprecated in version 0.18 in favor of the model_selection module into which all the refactored classes and functions are moved. This module will be removed in 0.20.\n",
      "  DeprecationWarning)\n"
     ]
    }
   ],
   "source": [
    "import pandas as pd\n",
    "import datetime\n",
    "import numpy as np\n",
    "import sklearn\n",
    "from sklearn.cross_validation import train_test_split \n",
    "from sklearn.ensemble import RandomForestRegressor\n",
    "from sklearn.model_selection import RandomizedSearchCV\n",
    "from sklearn.grid_search import GridSearchCV\n",
    "from sklearn import linear_model\n",
    "from sklearn.metrics import *\n",
    "from sklearn.neural_network import MLPRegressor\n",
    "from sklearn.preprocessing import StandardScaler\n",
    "scaler = StandardScaler()\n",
    "def mean_absolute_percentage_error(y_true, y_pred): \n",
    "        y_true, y_pred = np.array(y_true), np.array(y_pred)\n",
    "        return np.mean(np.abs((y_true - y_pred) / y_true)) * 100"
   ]
  },
  {
   "cell_type": "code",
   "execution_count": 2,
   "metadata": {
    "collapsed": true
   },
   "outputs": [],
   "source": [
    "d1=pd.read_csv(\"C:/Users/nitin/Downloads/Dataset/Dataset/Training/Features_Variant_1.csv\")\n",
    "d2=pd.read_csv(\"C:/Users/nitin/Downloads/Dataset/Dataset/Training/Features_Variant_2.csv\")\n",
    "d3=pd.read_csv(\"C:/Users/nitin/Downloads/Dataset/Dataset/Training/Features_Variant_3.csv\")\n",
    "d4=pd.read_csv(\"C:/Users/nitin/Downloads/Dataset/Dataset/Training/Features_Variant_4.csv\")\n",
    "d5=pd.read_csv(\"C:/Users/nitin/Downloads/Dataset/Dataset/Training/Features_Variant_5.csv\")"
   ]
  },
  {
   "cell_type": "code",
   "execution_count": 3,
   "metadata": {
    "collapsed": true
   },
   "outputs": [],
   "source": [
    "frames_main = [d1 , d2 , d3 , d4 , d5]"
   ]
  },
  {
   "cell_type": "code",
   "execution_count": 4,
   "metadata": {
    "collapsed": true
   },
   "outputs": [],
   "source": [
    "df = pd.concat(frames_main)"
   ]
  },
  {
   "cell_type": "code",
   "execution_count": 5,
   "metadata": {
    "collapsed": true
   },
   "outputs": [],
   "source": [
    "df=df[(df['Page_popularity']-df['Page_popularity'].mean()).abs() <= 3*df['Page_popularity'].std()]\n",
    "df=df[(df['Page_visited_no_of_times']-df['Page_visited_no_of_times'].mean()).abs() <= 3*df['Page_visited_no_of_times'].std()]\n",
    "df=df[(df['Page_talking_about']-df['Page_talking_about'].mean()).abs() <= 3*df['Page_talking_about'].std()]\n",
    "df=df[(df['Page_category']-df['Page_category'].mean()).abs() <= 3*df['Page_category'].std()]\n",
    "df=df[(df['c1']-df['c1'].mean()).abs() <= 3*df['c1'].std()]\n",
    "df=df[(df['c2']-df['c2'].mean()).abs() <= 3*df['c2'].std()]\n",
    "df=df[(df['c3']-df['c3'].mean()).abs() <= 3*df['c3'].std()]\n",
    "df=df[(df['c4']-df['c4'].mean()).abs() <= 3*df['c4'].std()]\n",
    "df=df[(df['c5']-df['c5'].mean()).abs() <= 3*df['c5'].std()]\n",
    "df=df[(df['c6']-df['c6'].mean()).abs() <= 3*df['c6'].std()]\n",
    "df=df[(df['c7']-df['c7'].mean()).abs() <= 3*df['c7'].std()]\n",
    "df=df[(df['c8']-df['c8'].mean()).abs() <= 3*df['c8'].std()]\n",
    "df=df[(df['c9']-df['c9'].mean()).abs() <= 3*df['c9'].std()]\n",
    "df=df[(df['c10']-df['c10'].mean()).abs() <= 3*df['c10'].std()]\n",
    "df=df[(df['c11']-df['c11'].mean()).abs() <= 3*df['c11'].std()]\n",
    "df=df[(df['c12']-df['c12'].mean()).abs() <= 3*df['c12'].std()]\n",
    "df=df[(df['c13']-df['c13'].mean()).abs() <= 3*df['c13'].std()]\n",
    "df=df[(df['c14']-df['c14'].mean()).abs() <= 3*df['c14'].std()]\n",
    "df=df[(df['c15']-df['c15'].mean()).abs() <= 3*df['c15'].std()]\n",
    "df=df[(df['c16']-df['c16'].mean()).abs() <= 3*df['c16'].std()]\n",
    "df=df[(df['c17']-df['c17'].mean()).abs() <= 3*df['c17'].std()]\n",
    "df=df[(df['c18']-df['c18'].mean()).abs() <= 3*df['c18'].std()]\n",
    "df=df[(df['c19']-df['c19'].mean()).abs() <= 3*df['c19'].std()]\n",
    "df=df[(df['c20']-df['c20'].mean()).abs() <= 3*df['c20'].std()]\n",
    "df=df[(df['c21']-df['c21'].mean()).abs() <= 3*df['c21'].std()]\n",
    "df=df[(df['c22']-df['c22'].mean()).abs() <= 3*df['c22'].std()]\n",
    "df=df[(df['c23']-df['c23'].mean()).abs() <= 3*df['c23'].std()]\n",
    "df=df[(df['c24']-df['c24'].mean()).abs() <= 3*df['c24'].std()]\n",
    "df=df[(df['c25']-df['c25'].mean()).abs() <= 3*df['c25'].std()]\n",
    "df=df[(df['CC1']-df['CC1'].mean()).abs() <= 3*df['CC1'].std()]\n",
    "df=df[(df['CC2']-df['CC2'].mean()).abs() <= 3*df['CC2'].std()]\n",
    "df=df[(df['CC3']-df['CC3'].mean()).abs() <= 3*df['CC3'].std()]\n",
    "df=df[(df['CC4']-df['CC4'].mean()).abs() <= 3*df['CC4'].std()]\n",
    "df=df[(df['CC5']-df['CC5'].mean()).abs() <= 3*df['CC5'].std()]\n",
    "df=df[(df['Base_time_something']-df['Base_time_something'].mean()).abs() <= 3*df['Base_time_something'].std()]\n",
    "df=df[(df['Post_length_char_count']-df['Post_length_char_count'].mean()).abs() <= 3*df['Post_length_char_count'].std()]\n",
    "df=df[(df['Post_share_count']-df['Post_share_count'].mean()).abs() <= 3*df['Post_share_count'].std()]\n",
    "df=df[(df['Post_promoted']-df['Post_promoted'].mean()).abs() <= 3*df['Post_promoted'].std()]\n",
    "df=df[(df['Time_target']-df['Time_target'].mean()).abs() <= 3*df['Time_target'].std()]\n",
    "df=df[(df['Sunday_post']-df['Sunday_post'].mean()).abs() <= 3*df['Sunday_post'].std()]\n",
    "df=df[(df['Monday_post']-df['Monday_post'].mean()).abs() <= 3*df['Monday_post'].std()]\n",
    "df=df[(df['Tuesday_post']-df['Tuesday_post'].mean()).abs() <= 3*df['Tuesday_post'].std()]\n",
    "df=df[(df['Wednesday_post']-df['Wednesday_post'].mean()).abs() <= 3*df['Wednesday_post'].std()]\n",
    "df=df[(df['Thrusday_post']-df['Thrusday_post'].mean()).abs() <= 3*df['Thrusday_post'].std()]\n",
    "df=df[(df['Friday_post']-df['Friday_post'].mean()).abs() <= 3*df['Friday_post'].std()]\n",
    "df=df[(df['Saturday_post']-df['Saturday_post'].mean()).abs() <= 3*df['Saturday_post'].std()]\n",
    "df=df[(df['Sunday_base']-df['Sunday_base'].mean()).abs() <= 3*df['Sunday_base'].std()]\n",
    "df=df[(df['Monday_base']-df['Monday_base'].mean()).abs() <= 3*df['Monday_base'].std()]\n",
    "df=df[(df['Tuesday_base']-df['Tuesday_base'].mean()).abs() <= 3*df['Tuesday_base'].std()]\n",
    "df=df[(df['Wednesday_base']-df['Wednesday_base'].mean()).abs() <= 3*df['Wednesday_base'].std()]\n",
    "df=df[(df['Thrusday_base']-df['Thrusday_base'].mean()).abs() <= 3*df['Thrusday_base'].std()]\n",
    "df=df[(df['Friday_base']-df['Friday_base'].mean()).abs() <= 3*df['Friday_base'].std()]\n",
    "df=df[(df['Saturday_base']-df['Saturday_base'].mean()).abs() <= 3*df['Saturday_base'].std()]\n",
    "df=df[(df['Target_variable']-df['Target_variable'].mean()).abs() <= 3*df['Target_variable'].std()]"
   ]
  },
  {
   "cell_type": "code",
   "execution_count": 6,
   "metadata": {},
   "outputs": [
    {
     "name": "stdout",
     "output_type": "stream",
     "text": [
      "(327244, 54)\n"
     ]
    }
   ],
   "source": [
    "print (df.shape)"
   ]
  },
  {
   "cell_type": "code",
   "execution_count": 40,
   "metadata": {
    "collapsed": true
   },
   "outputs": [],
   "source": [
    "df_train_rf,df_test_rf = train_test_split(df,train_size=0.7,random_state=42)\n",
    "x_train_rf=df_train_rf.iloc[:,1:53]\n",
    "y_train_rf=df_train_rf['Target_variable']\n",
    "scaler.fit(x_train_rf)\n",
    "x_train_sc_rf=scaler.transform(x_train_rf)\n",
    "x_test_rf=df_test_rf.iloc[:,1:53]\n",
    "y_test_rf=df_test_rf['Target_variable']\n",
    "scaler.fit(x_test_rf)\n",
    "x_test_sc_rf=scaler.transform(x_test_rf)"
   ]
  },
  {
   "cell_type": "code",
   "execution_count": 11,
   "metadata": {},
   "outputs": [
    {
     "name": "stdout",
     "output_type": "stream",
     "text": [
      "Iteration: \t1 / 100\n",
      "Confirmed: \t0\n",
      "Tentative: \t52\n",
      "Rejected: \t0\n",
      "Iteration: \t2 / 100\n",
      "Confirmed: \t0\n",
      "Tentative: \t52\n",
      "Rejected: \t0\n",
      "Iteration: \t3 / 100\n",
      "Confirmed: \t0\n",
      "Tentative: \t52\n",
      "Rejected: \t0\n",
      "Iteration: \t4 / 100\n",
      "Confirmed: \t0\n",
      "Tentative: \t52\n",
      "Rejected: \t0\n",
      "Iteration: \t5 / 100\n",
      "Confirmed: \t0\n",
      "Tentative: \t52\n",
      "Rejected: \t0\n",
      "Iteration: \t6 / 100\n",
      "Confirmed: \t0\n",
      "Tentative: \t52\n",
      "Rejected: \t0\n",
      "Iteration: \t7 / 100\n",
      "Confirmed: \t0\n",
      "Tentative: \t52\n",
      "Rejected: \t0\n",
      "Iteration: \t8 / 100\n",
      "Confirmed: \t6\n",
      "Tentative: \t3\n",
      "Rejected: \t43\n"
     ]
    },
    {
     "name": "stderr",
     "output_type": "stream",
     "text": [
      "C:\\ProgramData\\Anaconda3\\lib\\site-packages\\boruta\\boruta_py.py:418: RuntimeWarning: invalid value encountered in greater\n",
      "  hits = np.where(cur_imp[0] > imp_sha_max)[0]\n"
     ]
    },
    {
     "name": "stdout",
     "output_type": "stream",
     "text": [
      "Iteration: \t9 / 100\n",
      "Confirmed: \t6\n",
      "Tentative: \t3\n",
      "Rejected: \t43\n"
     ]
    },
    {
     "name": "stderr",
     "output_type": "stream",
     "text": [
      "C:\\ProgramData\\Anaconda3\\lib\\site-packages\\boruta\\boruta_py.py:418: RuntimeWarning: invalid value encountered in greater\n",
      "  hits = np.where(cur_imp[0] > imp_sha_max)[0]\n"
     ]
    },
    {
     "name": "stdout",
     "output_type": "stream",
     "text": [
      "Iteration: \t10 / 100\n",
      "Confirmed: \t6\n",
      "Tentative: \t3\n",
      "Rejected: \t43\n"
     ]
    },
    {
     "name": "stderr",
     "output_type": "stream",
     "text": [
      "C:\\ProgramData\\Anaconda3\\lib\\site-packages\\boruta\\boruta_py.py:418: RuntimeWarning: invalid value encountered in greater\n",
      "  hits = np.where(cur_imp[0] > imp_sha_max)[0]\n"
     ]
    },
    {
     "name": "stdout",
     "output_type": "stream",
     "text": [
      "Iteration: \t11 / 100\n",
      "Confirmed: \t6\n",
      "Tentative: \t3\n",
      "Rejected: \t43\n"
     ]
    },
    {
     "name": "stderr",
     "output_type": "stream",
     "text": [
      "C:\\ProgramData\\Anaconda3\\lib\\site-packages\\boruta\\boruta_py.py:418: RuntimeWarning: invalid value encountered in greater\n",
      "  hits = np.where(cur_imp[0] > imp_sha_max)[0]\n"
     ]
    },
    {
     "name": "stdout",
     "output_type": "stream",
     "text": [
      "Iteration: \t12 / 100\n",
      "Confirmed: \t7\n",
      "Tentative: \t2\n",
      "Rejected: \t43\n"
     ]
    },
    {
     "name": "stderr",
     "output_type": "stream",
     "text": [
      "C:\\ProgramData\\Anaconda3\\lib\\site-packages\\boruta\\boruta_py.py:418: RuntimeWarning: invalid value encountered in greater\n",
      "  hits = np.where(cur_imp[0] > imp_sha_max)[0]\n"
     ]
    },
    {
     "name": "stdout",
     "output_type": "stream",
     "text": [
      "Iteration: \t13 / 100\n",
      "Confirmed: \t7\n",
      "Tentative: \t2\n",
      "Rejected: \t43\n"
     ]
    },
    {
     "name": "stderr",
     "output_type": "stream",
     "text": [
      "C:\\ProgramData\\Anaconda3\\lib\\site-packages\\boruta\\boruta_py.py:418: RuntimeWarning: invalid value encountered in greater\n",
      "  hits = np.where(cur_imp[0] > imp_sha_max)[0]\n"
     ]
    },
    {
     "name": "stdout",
     "output_type": "stream",
     "text": [
      "Iteration: \t14 / 100\n",
      "Confirmed: \t7\n",
      "Tentative: \t2\n",
      "Rejected: \t43\n"
     ]
    },
    {
     "name": "stderr",
     "output_type": "stream",
     "text": [
      "C:\\ProgramData\\Anaconda3\\lib\\site-packages\\boruta\\boruta_py.py:418: RuntimeWarning: invalid value encountered in greater\n",
      "  hits = np.where(cur_imp[0] > imp_sha_max)[0]\n"
     ]
    },
    {
     "name": "stdout",
     "output_type": "stream",
     "text": [
      "Iteration: \t15 / 100\n",
      "Confirmed: \t7\n",
      "Tentative: \t2\n",
      "Rejected: \t43\n"
     ]
    },
    {
     "name": "stderr",
     "output_type": "stream",
     "text": [
      "C:\\ProgramData\\Anaconda3\\lib\\site-packages\\boruta\\boruta_py.py:418: RuntimeWarning: invalid value encountered in greater\n",
      "  hits = np.where(cur_imp[0] > imp_sha_max)[0]\n"
     ]
    },
    {
     "name": "stdout",
     "output_type": "stream",
     "text": [
      "Iteration: \t16 / 100\n",
      "Confirmed: \t7\n",
      "Tentative: \t2\n",
      "Rejected: \t43\n"
     ]
    },
    {
     "name": "stderr",
     "output_type": "stream",
     "text": [
      "C:\\ProgramData\\Anaconda3\\lib\\site-packages\\boruta\\boruta_py.py:418: RuntimeWarning: invalid value encountered in greater\n",
      "  hits = np.where(cur_imp[0] > imp_sha_max)[0]\n"
     ]
    },
    {
     "name": "stdout",
     "output_type": "stream",
     "text": [
      "Iteration: \t17 / 100\n",
      "Confirmed: \t7\n",
      "Tentative: \t2\n",
      "Rejected: \t43\n"
     ]
    },
    {
     "name": "stderr",
     "output_type": "stream",
     "text": [
      "C:\\ProgramData\\Anaconda3\\lib\\site-packages\\boruta\\boruta_py.py:418: RuntimeWarning: invalid value encountered in greater\n",
      "  hits = np.where(cur_imp[0] > imp_sha_max)[0]\n"
     ]
    },
    {
     "name": "stdout",
     "output_type": "stream",
     "text": [
      "Iteration: \t18 / 100\n",
      "Confirmed: \t7\n",
      "Tentative: \t2\n",
      "Rejected: \t43\n"
     ]
    },
    {
     "name": "stderr",
     "output_type": "stream",
     "text": [
      "C:\\ProgramData\\Anaconda3\\lib\\site-packages\\boruta\\boruta_py.py:418: RuntimeWarning: invalid value encountered in greater\n",
      "  hits = np.where(cur_imp[0] > imp_sha_max)[0]\n"
     ]
    },
    {
     "name": "stdout",
     "output_type": "stream",
     "text": [
      "Iteration: \t19 / 100\n",
      "Confirmed: \t7\n",
      "Tentative: \t1\n",
      "Rejected: \t44\n"
     ]
    },
    {
     "name": "stderr",
     "output_type": "stream",
     "text": [
      "C:\\ProgramData\\Anaconda3\\lib\\site-packages\\boruta\\boruta_py.py:418: RuntimeWarning: invalid value encountered in greater\n",
      "  hits = np.where(cur_imp[0] > imp_sha_max)[0]\n"
     ]
    },
    {
     "name": "stdout",
     "output_type": "stream",
     "text": [
      "Iteration: \t20 / 100\n",
      "Confirmed: \t7\n",
      "Tentative: \t1\n",
      "Rejected: \t44\n"
     ]
    },
    {
     "name": "stderr",
     "output_type": "stream",
     "text": [
      "C:\\ProgramData\\Anaconda3\\lib\\site-packages\\boruta\\boruta_py.py:418: RuntimeWarning: invalid value encountered in greater\n",
      "  hits = np.where(cur_imp[0] > imp_sha_max)[0]\n"
     ]
    },
    {
     "name": "stdout",
     "output_type": "stream",
     "text": [
      "Iteration: \t21 / 100\n",
      "Confirmed: \t7\n",
      "Tentative: \t1\n",
      "Rejected: \t44\n",
      "Iteration: \t22 / 100\n",
      "Confirmed: \t7\n",
      "Tentative: \t0\n",
      "Rejected: \t45\n",
      "\n",
      "\n",
      "BorutaPy finished running.\n",
      "\n",
      "Iteration: \t23 / 100\n",
      "Confirmed: \t7\n",
      "Tentative: \t0\n",
      "Rejected: \t45\n"
     ]
    },
    {
     "name": "stderr",
     "output_type": "stream",
     "text": [
      "C:\\ProgramData\\Anaconda3\\lib\\site-packages\\boruta\\boruta_py.py:418: RuntimeWarning: invalid value encountered in greater\n",
      "  hits = np.where(cur_imp[0] > imp_sha_max)[0]\n"
     ]
    },
    {
     "data": {
      "text/plain": [
       "BorutaPy(alpha=0.05,\n",
       "     estimator=RandomForestRegressor(bootstrap=True, criterion='mse', max_depth=25,\n",
       "           max_features='auto', max_leaf_nodes=None,\n",
       "           min_impurity_decrease=0.0, min_impurity_split=None,\n",
       "           min_samples_leaf=1, min_samples_split=2,\n",
       "           min_weight_fraction_leaf=0.0, n_estimators=16, n_jobs=-1,\n",
       "           oob_score=False,\n",
       "           random_state=<mtrand.RandomState object at 0x000001AAB74C3B88>,\n",
       "           verbose=0, warm_start=False),\n",
       "     max_iter=100, n_estimators='auto', perc=100,\n",
       "     random_state=<mtrand.RandomState object at 0x000001AAB74C3B88>,\n",
       "     two_step=True, verbose=2)"
      ]
     },
     "execution_count": 11,
     "metadata": {},
     "output_type": "execute_result"
    }
   ],
   "source": [
    "import pandas as pd\n",
    "#from sklearn.ensemble import RandomForestClassifier\n",
    "from boruta import BorutaPy\n",
    "\n",
    "# load X and y\n",
    "# NOTE BorutaPy accepts numpy arrays only, hence the .values attribute\n",
    "X_rf = x_train_sc_rf\n",
    "y_rf = y_train_rf\n",
    "\n",
    "# define random forest classifier, with utilising all cores and\n",
    "# sampling in proportion to y labels\n",
    "rf = RandomForestRegressor(n_jobs=-1, max_depth=25)\n",
    "\n",
    "# define Boruta feature selection method\n",
    "feat_selector_rf = BorutaPy(rf, n_estimators='auto', verbose=2)\n",
    "\n",
    "# find all relevant features\n",
    "feat_selector_rf.fit(X_rf, y_rf)"
   ]
  },
  {
   "cell_type": "code",
   "execution_count": 41,
   "metadata": {},
   "outputs": [
    {
     "data": {
      "text/plain": [
       "Index(['Page_talking_about', 'c4', 'CC2', 'CC5', 'Base_time_something',\n",
       "       'Post_length_char_count', 'Post_share_count'],\n",
       "      dtype='object')"
      ]
     },
     "execution_count": 41,
     "metadata": {},
     "output_type": "execute_result"
    }
   ],
   "source": [
    "x_train_rf.columns[feat_selector_rf.support_]"
   ]
  },
  {
   "cell_type": "code",
   "execution_count": 22,
   "metadata": {},
   "outputs": [
    {
     "name": "stdout",
     "output_type": "stream",
     "text": [
      "(229070, 7)\n",
      "(98174, 7)\n"
     ]
    }
   ],
   "source": [
    "column_list = x_train_rf.columns[feat_selector_rf.support_]\n",
    "x_train_rf=df_train_rf.iloc[:,1:53]\n",
    "x_train_rf= x_train_rf[column_list]\n",
    "print(x_train_rf.shape)\n",
    "y_train_rf=df_train_rf['Target_variable']\n",
    "scaler.fit(x_train_rf)\n",
    "x_train_sc_rf=scaler.transform(x_train_rf)\n",
    "x_test_rf=df_test_rf.iloc[:,1:53]\n",
    "x_test_rf = x_test_rf[column_list]\n",
    "print(x_test_rf.shape)\n",
    "y_test_rf=df_test_rf['Target_variable']\n",
    "x_test_sc_rf=scaler.transform(x_test_rf)"
   ]
  },
  {
   "cell_type": "code",
   "execution_count": 24,
   "metadata": {},
   "outputs": [
    {
     "data": {
      "text/plain": [
       "RandomForestRegressor(bootstrap=True, criterion='mse', max_depth=25,\n",
       "           max_features='auto', max_leaf_nodes=None,\n",
       "           min_impurity_decrease=0.0, min_impurity_split=None,\n",
       "           min_samples_leaf=1, min_samples_split=2,\n",
       "           min_weight_fraction_leaf=0.0, n_estimators=16, n_jobs=-1,\n",
       "           oob_score=False, random_state=42, verbose=0, warm_start=False)"
      ]
     },
     "execution_count": 24,
     "metadata": {},
     "output_type": "execute_result"
    }
   ],
   "source": [
    "rf = RandomForestRegressor(bootstrap=True, criterion='mse', max_depth=25,\n",
    "           max_features='auto', max_leaf_nodes=None,\n",
    "           min_impurity_decrease=0.0, min_impurity_split=None,\n",
    "           min_samples_leaf=1, min_samples_split=2,\n",
    "           min_weight_fraction_leaf=0.0, n_estimators=16, n_jobs=-1,\n",
    "           oob_score=False,\n",
    "           random_state=42,\n",
    "           verbose=0, warm_start=False)\n",
    "\n",
    "rf.fit(x_train_sc_rf,y_train_rf)"
   ]
  },
  {
   "cell_type": "code",
   "execution_count": 26,
   "metadata": {},
   "outputs": [
    {
     "name": "stdout",
     "output_type": "stream",
     "text": [
      "R2   : 0.929252732439\n",
      "RMSE : 0.479739732238\n",
      "MAE  : 0.218686501013\n"
     ]
    }
   ],
   "source": [
    "y_train_pred_rf=rf.predict(x_train_sc_rf)\n",
    "\n",
    "print(\"R2   :\",r2_score(y_train_rf,y_train_pred_rf))\n",
    "print(\"RMSE :\",np.sqrt(mean_squared_error(y_train_rf,y_train_pred_rf)))\n",
    "print(\"MAE  :\",mean_absolute_error(y_train_rf,y_train_pred_rf))"
   ]
  },
  {
   "cell_type": "code",
   "execution_count": 27,
   "metadata": {},
   "outputs": [
    {
     "name": "stdout",
     "output_type": "stream",
     "text": [
      "R2   : 0.612883631652\n",
      "MAE  : 0.506457078079\n",
      "RMSE : 1.12088117187\n"
     ]
    }
   ],
   "source": [
    "\n",
    "y_test_pred_rf =rf.predict(x_test_sc_rf)\n",
    "print(\"R2   :\",r2_score(y_test_rf,y_test_pred_rf))\n",
    "print(\"MAE  :\",mean_absolute_error(y_test_rf,y_test_pred_rf))\n",
    "print(\"RMSE :\",np.sqrt(mean_squared_error(y_test_rf,y_test_pred_rf)))\n"
   ]
  },
  {
   "cell_type": "code",
   "execution_count": 39,
   "metadata": {},
   "outputs": [
    {
     "ename": "IndexError",
     "evalue": "boolean index did not match indexed array along dimension 0; dimension is 7 but corresponding boolean dimension is 52",
     "output_type": "error",
     "traceback": [
      "\u001b[1;31m---------------------------------------------------------------------------\u001b[0m",
      "\u001b[1;31mIndexError\u001b[0m                                Traceback (most recent call last)",
      "\u001b[1;32m<ipython-input-39-2c6e938bd4e8>\u001b[0m in \u001b[0;36m<module>\u001b[1;34m()\u001b[0m\n\u001b[1;32m----> 1\u001b[1;33m \u001b[0mx_train_rf\u001b[0m\u001b[1;33m.\u001b[0m\u001b[0mcolumns\u001b[0m\u001b[1;33m[\u001b[0m\u001b[0mfeat_selector_rf\u001b[0m\u001b[1;33m.\u001b[0m\u001b[0msupport_\u001b[0m\u001b[1;33m]\u001b[0m\u001b[1;33m\u001b[0m\u001b[0m\n\u001b[0m",
      "\u001b[1;32mC:\\ProgramData\\Anaconda3\\lib\\site-packages\\pandas\\core\\indexes\\base.py\u001b[0m in \u001b[0;36m__getitem__\u001b[1;34m(self, key)\u001b[0m\n\u001b[0;32m   1698\u001b[0m \u001b[1;33m\u001b[0m\u001b[0m\n\u001b[0;32m   1699\u001b[0m         \u001b[0mkey\u001b[0m \u001b[1;33m=\u001b[0m \u001b[0m_values_from_object\u001b[0m\u001b[1;33m(\u001b[0m\u001b[0mkey\u001b[0m\u001b[1;33m)\u001b[0m\u001b[1;33m\u001b[0m\u001b[0m\n\u001b[1;32m-> 1700\u001b[1;33m         \u001b[0mresult\u001b[0m \u001b[1;33m=\u001b[0m \u001b[0mgetitem\u001b[0m\u001b[1;33m(\u001b[0m\u001b[0mkey\u001b[0m\u001b[1;33m)\u001b[0m\u001b[1;33m\u001b[0m\u001b[0m\n\u001b[0m\u001b[0;32m   1701\u001b[0m         \u001b[1;32mif\u001b[0m \u001b[1;32mnot\u001b[0m \u001b[0mis_scalar\u001b[0m\u001b[1;33m(\u001b[0m\u001b[0mresult\u001b[0m\u001b[1;33m)\u001b[0m\u001b[1;33m:\u001b[0m\u001b[1;33m\u001b[0m\u001b[0m\n\u001b[0;32m   1702\u001b[0m             \u001b[1;32mreturn\u001b[0m \u001b[0mpromote\u001b[0m\u001b[1;33m(\u001b[0m\u001b[0mresult\u001b[0m\u001b[1;33m)\u001b[0m\u001b[1;33m\u001b[0m\u001b[0m\n",
      "\u001b[1;31mIndexError\u001b[0m: boolean index did not match indexed array along dimension 0; dimension is 7 but corresponding boolean dimension is 52"
     ]
    }
   ],
   "source": [
    " x_train_rf.columns[feat_selector_rf.support_]"
   ]
  },
  {
   "cell_type": "markdown",
   "metadata": {},
   "source": [
    "RFECV"
   ]
  },
  {
   "cell_type": "code",
   "execution_count": 54,
   "metadata": {},
   "outputs": [
    {
     "data": {
      "text/plain": [
       "sklearn.feature_selection.rfe.RFECV"
      ]
     },
     "execution_count": 54,
     "metadata": {},
     "output_type": "execute_result"
    }
   ],
   "source": [
    "RFECV"
   ]
  },
  {
   "cell_type": "code",
   "execution_count": 1,
   "metadata": {
    "collapsed": true
   },
   "outputs": [],
   "source": [
    "from sklearn.datasets import make_friedman1\n",
    "from sklearn.feature_selection import RFE\n",
    "from sklearn.svm import SVR"
   ]
  },
  {
   "cell_type": "code",
   "execution_count": 45,
   "metadata": {
    "collapsed": true
   },
   "outputs": [],
   "source": [
    "#X_lm, y_lm = make_friedman1(n_samples=50, n_features=10, random_state=0)"
   ]
  },
  {
   "cell_type": "code",
   "execution_count": 47,
   "metadata": {},
   "outputs": [
    {
     "data": {
      "text/plain": [
       "array([ 17.2134918 ,  19.37965436,  14.75030901,  11.81662128,\n",
       "         9.45520588,  13.90806032,   3.40447398,  24.20228984,\n",
       "        17.5783377 ,  17.51556532,  17.40999895,  17.11893656,\n",
       "        21.81510702,  15.88623898,  21.63246599,  13.01689624,\n",
       "        22.908266  ,   6.84202611,  10.32969753,  17.70617001,\n",
       "         8.52251585,   9.51592807,  19.81663198,   2.99416378,\n",
       "         8.04688453,  22.09060713,  18.07976383,  15.64717616,\n",
       "         9.18985112,   8.10886643,  11.46237964,  11.27510587,\n",
       "         9.39472899,  19.12963765,   6.75303583,   8.59450992,\n",
       "        14.08547252,  15.47556192,  23.37684908,  10.65602456,\n",
       "        26.21981092,   7.56662861,   6.09081028,  15.3507226 ,\n",
       "        13.30251573,  15.05111884,  12.18062778,  23.69853054,\n",
       "         7.89988206,  14.86941989])"
      ]
     },
     "execution_count": 47,
     "metadata": {},
     "output_type": "execute_result"
    }
   ],
   "source": [
    "#y_lm"
   ]
  },
  {
   "cell_type": "code",
   "execution_count": 48,
   "metadata": {
    "collapsed": true
   },
   "outputs": [],
   "source": [
    "df_train_lr,df_test_lr = train_test_split(df,train_size=0.7,random_state=42)\n",
    "x_train_lr=df_train_lr.iloc[:,1:53]\n",
    "y_train_lr=df_train_lr['Target_variable']\n",
    "scaler.fit(x_train_lr)\n",
    "x_train_sc_lr=scaler.transform(x_train_lr)\n",
    "x_test_lr=df_test_lr.iloc[:,1:53]\n",
    "y_test_lr=df_test_lr['Target_variable']\n",
    "scaler.fit(x_test_lr)\n",
    "x_test_sc_lr=scaler.transform(x_test_lr)"
   ]
  },
  {
   "cell_type": "code",
   "execution_count": 49,
   "metadata": {
    "collapsed": true
   },
   "outputs": [],
   "source": [
    "estimator = "
   ]
  },
  {
   "cell_type": "code",
   "execution_count": 50,
   "metadata": {},
   "outputs": [
    {
     "data": {
      "text/plain": [
       "RFECV(cv=5,\n",
       "   estimator=LinearRegression(copy_X=True, fit_intercept=True, n_jobs=1, normalize=False),\n",
       "   n_jobs=1, scoring=None, step=1, verbose=0)"
      ]
     },
     "execution_count": 50,
     "metadata": {},
     "output_type": "execute_result"
    }
   ],
   "source": [
    "selector = RFE(estimator, step=1, cv=5)\n",
    "selector.fit(x_train_sc_lr,y_train_lr )"
   ]
  },
  {
   "cell_type": "code",
   "execution_count": 51,
   "metadata": {},
   "outputs": [
    {
     "data": {
      "text/plain": [
       "array([ True,  True,  True,  True,  True,  True,  True,  True,  True,\n",
       "        True,  True,  True,  True,  True,  True,  True,  True,  True,\n",
       "        True,  True,  True,  True,  True,  True,  True,  True,  True,\n",
       "        True,  True,  True,  True,  True,  True,  True,  True,  True,\n",
       "        True,  True,  True,  True,  True,  True,  True,  True,  True,\n",
       "        True,  True,  True,  True,  True,  True,  True], dtype=bool)"
      ]
     },
     "execution_count": 51,
     "metadata": {},
     "output_type": "execute_result"
    }
   ],
   "source": [
    "selector.support_ "
   ]
  },
  {
   "cell_type": "code",
   "execution_count": 52,
   "metadata": {},
   "outputs": [
    {
     "data": {
      "text/plain": [
       "array([1, 1, 1, 1, 1, 1, 1, 1, 1, 1, 1, 1, 1, 1, 1, 1, 1, 1, 1, 1, 1, 1, 1,\n",
       "       1, 1, 1, 1, 1, 1, 1, 1, 1, 1, 1, 1, 1, 1, 1, 1, 1, 1, 1, 1, 1, 1, 1,\n",
       "       1, 1, 1, 1, 1, 1])"
      ]
     },
     "execution_count": 52,
     "metadata": {},
     "output_type": "execute_result"
    }
   ],
   "source": [
    "selector.ranking_"
   ]
  },
  {
   "cell_type": "code",
   "execution_count": 53,
   "metadata": {},
   "outputs": [
    {
     "data": {
      "text/plain": [
       "Index(['Page_visited_no_of_times', 'Page_talking_about', 'Page_category', 'c1',\n",
       "       'c2', 'c3', 'c4', 'c5', 'c6', 'c7', 'c8', 'c9', 'c10', 'c11', 'c12',\n",
       "       'c13', 'c14', 'c15', 'c16', 'c17', 'c18', 'c19', 'c20', 'c21', 'c22',\n",
       "       'c23', 'c24', 'c25', 'CC1', 'CC2', 'CC3', 'CC4', 'CC5',\n",
       "       'Base_time_something', 'Post_length_char_count', 'Post_share_count',\n",
       "       'Post_promoted', 'Time_target', 'Sunday_post', 'Monday_post',\n",
       "       'Tuesday_post', 'Wednesday_post', 'Thrusday_post', 'Friday_post',\n",
       "       'Saturday_post', 'Sunday_base', 'Monday_base', 'Tuesday_base',\n",
       "       'Wednesday_base', 'Thrusday_base', 'Friday_base', 'Saturday_base'],\n",
       "      dtype='object')"
      ]
     },
     "execution_count": 53,
     "metadata": {},
     "output_type": "execute_result"
    }
   ],
   "source": [
    "x_train_lr.columns[selector.support_]"
   ]
  },
  {
   "cell_type": "code",
   "execution_count": 55,
   "metadata": {
    "collapsed": true
   },
   "outputs": [],
   "source": [
    "df_train_dt,df_test_dt = train_test_split(df,train_size=0.7,random_state=42)\n",
    "x_train_dt=df_train_dt.iloc[:,1:53]\n",
    "y_train_dt=df_train_dt['Target_variable']\n",
    "scaler.fit(x_train_dt)\n",
    "x_train_sc_dt=scaler.transform(x_train_dt)\n",
    "x_test_dt=df_test_dt.iloc[:,1:53]\n",
    "y_test_dt=df_test_dt['Target_variable']\n",
    "scaler.fit(x_test_dt)\n",
    "x_test_sc_dt=scaler.transform(x_test_dt)"
   ]
  },
  {
   "cell_type": "code",
   "execution_count": 56,
   "metadata": {
    "collapsed": true
   },
   "outputs": [],
   "source": [
    "from sklearn import tree\n",
    "dt_estimator = tree.DecisionTreeClassifier()"
   ]
  },
  {
   "cell_type": "code",
   "execution_count": 57,
   "metadata": {},
   "outputs": [
    {
     "data": {
      "text/plain": [
       "RFECV(cv=5,\n",
       "   estimator=DecisionTreeClassifier(class_weight=None, criterion='gini', max_depth=None,\n",
       "            max_features=None, max_leaf_nodes=None,\n",
       "            min_impurity_decrease=0.0, min_impurity_split=None,\n",
       "            min_samples_leaf=1, min_samples_split=2,\n",
       "            min_weight_fraction_leaf=0.0, presort=False, random_state=None,\n",
       "            splitter='best'),\n",
       "   n_jobs=1, scoring=None, step=1, verbose=0)"
      ]
     },
     "execution_count": 57,
     "metadata": {},
     "output_type": "execute_result"
    }
   ],
   "source": [
    "selector = RFECV(dt_estimator, step=1, cv=5)\n",
    "selector.fit(x_train_sc_dt,y_train_dt )"
   ]
  },
  {
   "cell_type": "code",
   "execution_count": 58,
   "metadata": {},
   "outputs": [
    {
     "data": {
      "text/plain": [
       "array([False, False, False, False, False, False, False, False, False,\n",
       "       False, False, False, False, False, False, False, False, False,\n",
       "       False, False,  True, False, False, False, False, False, False,\n",
       "       False, False, False, False, False, False, False, False, False,\n",
       "       False, False, False, False, False, False, False, False, False,\n",
       "       False, False, False, False, False, False, False], dtype=bool)"
      ]
     },
     "execution_count": 58,
     "metadata": {},
     "output_type": "execute_result"
    }
   ],
   "source": [
    "selector.support_ "
   ]
  },
  {
   "cell_type": "code",
   "execution_count": 59,
   "metadata": {},
   "outputs": [
    {
     "data": {
      "text/plain": [
       "array([36,  8, 19, 48, 11, 22, 29, 21, 51, 25,  7, 42, 18, 50, 24, 14, 45,\n",
       "       20, 49, 32,  1, 17,  5, 12, 15, 10, 46, 23,  9,  4, 35, 13, 16,  3,\n",
       "        2,  6, 52, 47, 34, 28, 30, 27, 33, 26, 31, 39, 43, 44, 38, 40, 37,\n",
       "       41])"
      ]
     },
     "execution_count": 59,
     "metadata": {},
     "output_type": "execute_result"
    }
   ],
   "source": [
    "selector.ranking_"
   ]
  },
  {
   "cell_type": "code",
   "execution_count": null,
   "metadata": {
    "collapsed": true
   },
   "outputs": [],
   "source": []
  }
 ],
 "metadata": {
  "kernelspec": {
   "display_name": "Python 3",
   "language": "python",
   "name": "python3"
  },
  "language_info": {
   "codemirror_mode": {
    "name": "ipython",
    "version": 3
   },
   "file_extension": ".py",
   "mimetype": "text/x-python",
   "name": "python",
   "nbconvert_exporter": "python",
   "pygments_lexer": "ipython3",
   "version": "3.6.3"
  }
 },
 "nbformat": 4,
 "nbformat_minor": 2
}
