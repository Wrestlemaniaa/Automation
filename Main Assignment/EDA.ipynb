{
 "cells": [
  {
   "cell_type": "markdown",
   "metadata": {},
   "source": [
    "# EDA"
   ]
  },
  {
   "cell_type": "markdown",
   "metadata": {},
   "source": [
    "Importing Library"
   ]
  },
  {
   "cell_type": "code",
   "execution_count": 3,
   "metadata": {
    "collapsed": true
   },
   "outputs": [],
   "source": [
    "import pandas as pd\n",
    "import datetime\n",
    "import calendar\n",
    "import numpy as np \n",
    "import matplotlib.pyplot as plt\n",
    "import warnings\n",
    "warnings.filterwarnings('ignore')\n",
    "%matplotlib inline\n",
    "from matplotlib.pylab import rcParams\n",
    "import seaborn as sns"
   ]
  },
  {
   "cell_type": "markdown",
   "metadata": {},
   "source": [
    "Importing dataset"
   ]
  },
  {
   "cell_type": "code",
   "execution_count": 4,
   "metadata": {
    "collapsed": true
   },
   "outputs": [],
   "source": [
    "d1=pd.read_csv(\"C:/Users/nitin/Downloads/Dataset/Dataset/Training/Features_Variant_1.csv\")"
   ]
  },
  {
   "cell_type": "code",
   "execution_count": 5,
   "metadata": {
    "collapsed": true
   },
   "outputs": [],
   "source": [
    "d2=pd.read_csv(\"C:/Users/nitin/Downloads/Dataset/Dataset/Training/Features_Variant_2.csv\")\n",
    "d3=pd.read_csv(\"C:/Users/nitin/Downloads/Dataset/Dataset/Training/Features_Variant_3.csv\")\n",
    "d4=pd.read_csv(\"C:/Users/nitin/Downloads/Dataset/Dataset/Training/Features_Variant_4.csv\")\n",
    "d5=pd.read_csv(\"C:/Users/nitin/Downloads/Dataset/Dataset/Training/Features_Variant_5.csv\")"
   ]
  },
  {
   "cell_type": "code",
   "execution_count": 6,
   "metadata": {},
   "outputs": [
    {
     "data": {
      "text/plain": [
       "(40949, 54)"
      ]
     },
     "execution_count": 6,
     "metadata": {},
     "output_type": "execute_result"
    }
   ],
   "source": [
    "d1.shape"
   ]
  },
  {
   "cell_type": "code",
   "execution_count": 7,
   "metadata": {},
   "outputs": [
    {
     "data": {
      "text/plain": [
       "(81312, 54)"
      ]
     },
     "execution_count": 7,
     "metadata": {},
     "output_type": "execute_result"
    }
   ],
   "source": [
    "d2.shape"
   ]
  },
  {
   "cell_type": "code",
   "execution_count": 8,
   "metadata": {},
   "outputs": [
    {
     "data": {
      "text/plain": [
       "(121098, 54)"
      ]
     },
     "execution_count": 8,
     "metadata": {},
     "output_type": "execute_result"
    }
   ],
   "source": [
    "d3.shape"
   ]
  },
  {
   "cell_type": "code",
   "execution_count": 9,
   "metadata": {},
   "outputs": [
    {
     "data": {
      "text/plain": [
       "(160424, 54)"
      ]
     },
     "execution_count": 9,
     "metadata": {},
     "output_type": "execute_result"
    }
   ],
   "source": [
    "d4.shape"
   ]
  },
  {
   "cell_type": "code",
   "execution_count": 10,
   "metadata": {},
   "outputs": [
    {
     "data": {
      "text/plain": [
       "(199030, 54)"
      ]
     },
     "execution_count": 10,
     "metadata": {},
     "output_type": "execute_result"
    }
   ],
   "source": [
    "d5.shape"
   ]
  },
  {
   "cell_type": "markdown",
   "metadata": {},
   "source": [
    "Concatenating dataset"
   ]
  },
  {
   "cell_type": "code",
   "execution_count": 11,
   "metadata": {
    "collapsed": true
   },
   "outputs": [],
   "source": [
    "frames = [d1 , d2 , d3 , d4 , d5]"
   ]
  },
  {
   "cell_type": "code",
   "execution_count": 12,
   "metadata": {
    "collapsed": true
   },
   "outputs": [],
   "source": [
    "df_train = pd.concat(frames)"
   ]
  },
  {
   "cell_type": "markdown",
   "metadata": {},
   "source": [
    "Understanding the shape of our dataset"
   ]
  },
  {
   "cell_type": "code",
   "execution_count": 13,
   "metadata": {},
   "outputs": [
    {
     "data": {
      "text/plain": [
       "(602813, 54)"
      ]
     },
     "execution_count": 13,
     "metadata": {},
     "output_type": "execute_result"
    }
   ],
   "source": [
    "df_train.shape"
   ]
  },
  {
   "cell_type": "code",
   "execution_count": 14,
   "metadata": {},
   "outputs": [
    {
     "data": {
      "text/html": [
       "<div>\n",
       "<style>\n",
       "    .dataframe thead tr:only-child th {\n",
       "        text-align: right;\n",
       "    }\n",
       "\n",
       "    .dataframe thead th {\n",
       "        text-align: left;\n",
       "    }\n",
       "\n",
       "    .dataframe tbody tr th {\n",
       "        vertical-align: top;\n",
       "    }\n",
       "</style>\n",
       "<table border=\"1\" class=\"dataframe\">\n",
       "  <thead>\n",
       "    <tr style=\"text-align: right;\">\n",
       "      <th></th>\n",
       "      <th>Page_popularity</th>\n",
       "      <th>Page_visited_no_of_times</th>\n",
       "      <th>Page_talking_about</th>\n",
       "      <th>Page_category</th>\n",
       "      <th>c1</th>\n",
       "      <th>c2</th>\n",
       "      <th>c3</th>\n",
       "      <th>c4</th>\n",
       "      <th>c5</th>\n",
       "      <th>c6</th>\n",
       "      <th>...</th>\n",
       "      <th>Friday_post</th>\n",
       "      <th>Saturday_post</th>\n",
       "      <th>Sunday_base</th>\n",
       "      <th>Monday_base</th>\n",
       "      <th>Tuesday_base</th>\n",
       "      <th>Wednesday_base</th>\n",
       "      <th>Thrusday_base</th>\n",
       "      <th>Friday_base</th>\n",
       "      <th>Saturday_base</th>\n",
       "      <th>Target_variable</th>\n",
       "    </tr>\n",
       "  </thead>\n",
       "  <tbody>\n",
       "    <tr>\n",
       "      <th>0</th>\n",
       "      <td>634995</td>\n",
       "      <td>0</td>\n",
       "      <td>463</td>\n",
       "      <td>1</td>\n",
       "      <td>0</td>\n",
       "      <td>806</td>\n",
       "      <td>11.291045</td>\n",
       "      <td>1.0</td>\n",
       "      <td>70.495138</td>\n",
       "      <td>0</td>\n",
       "      <td>...</td>\n",
       "      <td>0</td>\n",
       "      <td>0</td>\n",
       "      <td>0</td>\n",
       "      <td>0</td>\n",
       "      <td>0</td>\n",
       "      <td>0</td>\n",
       "      <td>0</td>\n",
       "      <td>0</td>\n",
       "      <td>1</td>\n",
       "      <td>0</td>\n",
       "    </tr>\n",
       "    <tr>\n",
       "      <th>1</th>\n",
       "      <td>634995</td>\n",
       "      <td>0</td>\n",
       "      <td>463</td>\n",
       "      <td>1</td>\n",
       "      <td>0</td>\n",
       "      <td>806</td>\n",
       "      <td>11.291045</td>\n",
       "      <td>1.0</td>\n",
       "      <td>70.495138</td>\n",
       "      <td>0</td>\n",
       "      <td>...</td>\n",
       "      <td>0</td>\n",
       "      <td>0</td>\n",
       "      <td>0</td>\n",
       "      <td>0</td>\n",
       "      <td>0</td>\n",
       "      <td>0</td>\n",
       "      <td>0</td>\n",
       "      <td>1</td>\n",
       "      <td>0</td>\n",
       "      <td>0</td>\n",
       "    </tr>\n",
       "    <tr>\n",
       "      <th>2</th>\n",
       "      <td>634995</td>\n",
       "      <td>0</td>\n",
       "      <td>463</td>\n",
       "      <td>1</td>\n",
       "      <td>0</td>\n",
       "      <td>806</td>\n",
       "      <td>11.291045</td>\n",
       "      <td>1.0</td>\n",
       "      <td>70.495138</td>\n",
       "      <td>0</td>\n",
       "      <td>...</td>\n",
       "      <td>1</td>\n",
       "      <td>0</td>\n",
       "      <td>0</td>\n",
       "      <td>0</td>\n",
       "      <td>0</td>\n",
       "      <td>0</td>\n",
       "      <td>0</td>\n",
       "      <td>0</td>\n",
       "      <td>1</td>\n",
       "      <td>0</td>\n",
       "    </tr>\n",
       "    <tr>\n",
       "      <th>3</th>\n",
       "      <td>634995</td>\n",
       "      <td>0</td>\n",
       "      <td>463</td>\n",
       "      <td>1</td>\n",
       "      <td>0</td>\n",
       "      <td>806</td>\n",
       "      <td>11.291045</td>\n",
       "      <td>1.0</td>\n",
       "      <td>70.495138</td>\n",
       "      <td>0</td>\n",
       "      <td>...</td>\n",
       "      <td>1</td>\n",
       "      <td>0</td>\n",
       "      <td>0</td>\n",
       "      <td>1</td>\n",
       "      <td>0</td>\n",
       "      <td>0</td>\n",
       "      <td>0</td>\n",
       "      <td>0</td>\n",
       "      <td>0</td>\n",
       "      <td>0</td>\n",
       "    </tr>\n",
       "    <tr>\n",
       "      <th>4</th>\n",
       "      <td>634995</td>\n",
       "      <td>0</td>\n",
       "      <td>463</td>\n",
       "      <td>1</td>\n",
       "      <td>0</td>\n",
       "      <td>806</td>\n",
       "      <td>11.291045</td>\n",
       "      <td>1.0</td>\n",
       "      <td>70.495138</td>\n",
       "      <td>0</td>\n",
       "      <td>...</td>\n",
       "      <td>0</td>\n",
       "      <td>0</td>\n",
       "      <td>0</td>\n",
       "      <td>0</td>\n",
       "      <td>0</td>\n",
       "      <td>1</td>\n",
       "      <td>0</td>\n",
       "      <td>0</td>\n",
       "      <td>0</td>\n",
       "      <td>0</td>\n",
       "    </tr>\n",
       "  </tbody>\n",
       "</table>\n",
       "<p>5 rows × 54 columns</p>\n",
       "</div>"
      ],
      "text/plain": [
       "   Page_popularity  Page_visited_no_of_times  Page_talking_about  \\\n",
       "0           634995                         0                 463   \n",
       "1           634995                         0                 463   \n",
       "2           634995                         0                 463   \n",
       "3           634995                         0                 463   \n",
       "4           634995                         0                 463   \n",
       "\n",
       "   Page_category  c1   c2         c3   c4         c5  c6       ...         \\\n",
       "0              1   0  806  11.291045  1.0  70.495138   0       ...          \n",
       "1              1   0  806  11.291045  1.0  70.495138   0       ...          \n",
       "2              1   0  806  11.291045  1.0  70.495138   0       ...          \n",
       "3              1   0  806  11.291045  1.0  70.495138   0       ...          \n",
       "4              1   0  806  11.291045  1.0  70.495138   0       ...          \n",
       "\n",
       "   Friday_post  Saturday_post  Sunday_base  Monday_base  Tuesday_base  \\\n",
       "0            0              0            0            0             0   \n",
       "1            0              0            0            0             0   \n",
       "2            1              0            0            0             0   \n",
       "3            1              0            0            1             0   \n",
       "4            0              0            0            0             0   \n",
       "\n",
       "   Wednesday_base  Thrusday_base  Friday_base  Saturday_base  Target_variable  \n",
       "0               0              0            0              1                0  \n",
       "1               0              0            1              0                0  \n",
       "2               0              0            0              1                0  \n",
       "3               0              0            0              0                0  \n",
       "4               1              0            0              0                0  \n",
       "\n",
       "[5 rows x 54 columns]"
      ]
     },
     "execution_count": 14,
     "metadata": {},
     "output_type": "execute_result"
    }
   ],
   "source": [
    "df_train.head()"
   ]
  },
  {
   "cell_type": "markdown",
   "metadata": {},
   "source": [
    "Now, let's understand whether our dataset contains null values or not."
   ]
  },
  {
   "cell_type": "code",
   "execution_count": 15,
   "metadata": {},
   "outputs": [
    {
     "data": {
      "text/plain": [
       "Page_popularity             0\n",
       "Page_visited_no_of_times    0\n",
       "Page_talking_about          0\n",
       "Page_category               0\n",
       "c1                          0\n",
       "c2                          0\n",
       "c3                          0\n",
       "c4                          0\n",
       "c5                          0\n",
       "c6                          0\n",
       "c7                          0\n",
       "c8                          0\n",
       "c9                          0\n",
       "c10                         0\n",
       "c11                         0\n",
       "c12                         0\n",
       "c13                         0\n",
       "c14                         0\n",
       "c15                         0\n",
       "c16                         0\n",
       "c17                         0\n",
       "c18                         0\n",
       "c19                         0\n",
       "c20                         0\n",
       "c21                         0\n",
       "c22                         0\n",
       "c23                         0\n",
       "c24                         0\n",
       "c25                         0\n",
       "CC1                         0\n",
       "CC2                         0\n",
       "CC3                         0\n",
       "CC4                         0\n",
       "CC5                         0\n",
       "Base_time_something         0\n",
       "Post_length_char_count      0\n",
       "Post_share_count            0\n",
       "Post_promoted               0\n",
       "Time_target                 0\n",
       "Sunday_post                 0\n",
       "Monday_post                 0\n",
       "Tuesday_post                0\n",
       "Wednesday_post              0\n",
       "Thrusday_post               0\n",
       "Friday_post                 0\n",
       "Saturday_post               0\n",
       "Sunday_base                 0\n",
       "Monday_base                 0\n",
       "Tuesday_base                0\n",
       "Wednesday_base              0\n",
       "Thrusday_base               0\n",
       "Friday_base                 0\n",
       "Saturday_base               0\n",
       "Target_variable             0\n",
       "dtype: int64"
      ]
     },
     "execution_count": 15,
     "metadata": {},
     "output_type": "execute_result"
    }
   ],
   "source": [
    "df_train.isnull().sum()"
   ]
  },
  {
   "cell_type": "markdown",
   "metadata": {},
   "source": [
    "There isn't any null values in the dataset."
   ]
  },
  {
   "cell_type": "markdown",
   "metadata": {},
   "source": [
    "Now, let's understad the type of these columns. "
   ]
  },
  {
   "cell_type": "code",
   "execution_count": 16,
   "metadata": {},
   "outputs": [
    {
     "data": {
      "text/plain": [
       "Page_popularity               int64\n",
       "Page_visited_no_of_times      int64\n",
       "Page_talking_about            int64\n",
       "Page_category                 int64\n",
       "c1                            int64\n",
       "c2                            int64\n",
       "c3                          float64\n",
       "c4                          float64\n",
       "c5                          float64\n",
       "c6                            int64\n",
       "c7                            int64\n",
       "c8                          float64\n",
       "c9                          float64\n",
       "c10                         float64\n",
       "c11                           int64\n",
       "c12                           int64\n",
       "c13                         float64\n",
       "c14                         float64\n",
       "c15                         float64\n",
       "c16                           int64\n",
       "c17                           int64\n",
       "c18                         float64\n",
       "c19                         float64\n",
       "c20                         float64\n",
       "c21                           int64\n",
       "c22                           int64\n",
       "c23                         float64\n",
       "c24                         float64\n",
       "c25                         float64\n",
       "CC1                           int64\n",
       "CC2                           int64\n",
       "CC3                           int64\n",
       "CC4                           int64\n",
       "CC5                           int64\n",
       "Base_time_something           int64\n",
       "Post_length_char_count        int64\n",
       "Post_share_count              int64\n",
       "Post_promoted                 int64\n",
       "Time_target                   int64\n",
       "Sunday_post                   int64\n",
       "Monday_post                   int64\n",
       "Tuesday_post                  int64\n",
       "Wednesday_post                int64\n",
       "Thrusday_post                 int64\n",
       "Friday_post                   int64\n",
       "Saturday_post                 int64\n",
       "Sunday_base                   int64\n",
       "Monday_base                   int64\n",
       "Tuesday_base                  int64\n",
       "Wednesday_base                int64\n",
       "Thrusday_base                 int64\n",
       "Friday_base                   int64\n",
       "Saturday_base                 int64\n",
       "Target_variable               int64\n",
       "dtype: object"
      ]
     },
     "execution_count": 16,
     "metadata": {},
     "output_type": "execute_result"
    }
   ],
   "source": [
    "df_train.dtypes"
   ]
  },
  {
   "cell_type": "markdown",
   "metadata": {},
   "source": [
    "All the data in our dataset or either in 'integer' or in 'float'"
   ]
  },
  {
   "cell_type": "code",
   "execution_count": 17,
   "metadata": {},
   "outputs": [
    {
     "data": {
      "text/plain": [
       "73768"
      ]
     },
     "execution_count": 17,
     "metadata": {},
     "output_type": "execute_result"
    }
   ],
   "source": [
    "df_train['Sunday_post'].sum()"
   ]
  },
  {
   "cell_type": "code",
   "execution_count": 18,
   "metadata": {},
   "outputs": [
    {
     "data": {
      "image/png": "[encoded data removed]",
      "text/plain": [
       "<matplotlib.figure.Figure at 0x24605777be0>"
      ]
     },
     "metadata": {},
     "output_type": "display_data"
    }
   ],
   "source": [
    "height = [df_train['Sunday_post'].sum() , df_train['Monday_post'].sum() , df_train['Tuesday_post'].sum() ,\n",
    "          df_train['Wednesday_post'].sum() , df_train['Thrusday_post'].sum() , df_train['Friday_post'].sum() ,\n",
    "          df_train['Saturday_post'].sum() ]\n",
    "bars = ('Sunday' , 'Monday' , 'Tuesday' , 'Wednesday' , 'Thrusday' , 'Friday' , 'Saturday')\n",
    "\n",
    "y_pos = np.arange(len(bars))\n",
    "\n",
    "plt.bar(y_pos , height)\n",
    "\n",
    "plt.xticks(y_pos, bars , rotation='vertical')\n",
    "\n",
    "plt.show()"
   ]
  },
  {
   "cell_type": "markdown",
   "metadata": {},
   "source": [
    "From the above graph, we can understand that frequency of post increases on daily basis and it reaches its maximum point at Wednesday and then it declines gradually."
   ]
  },
  {
   "cell_type": "code",
   "execution_count": 19,
   "metadata": {},
   "outputs": [
    {
     "data": {
      "image/png": "[encoded data removed]",
      "text/plain": [
       "<matplotlib.figure.Figure at 0x246057745f8>"
      ]
     },
     "metadata": {},
     "output_type": "display_data"
    }
   ],
   "source": [
    "height = [df_train['Sunday_base'].sum() , df_train['Monday_base'].sum() , df_train['Tuesday_base'].sum() ,\n",
    "          df_train['Wednesday_base'].sum() , df_train['Thrusday_base'].sum() , df_train['Friday_base'].sum() ,\n",
    "          df_train['Saturday_base'].sum() ]\n",
    "bars = ('Sunday' , 'Monday' , 'Tuesday' , 'Wednesday' , 'Thrusday' , 'Friday' , 'Saturday')\n",
    "\n",
    "y_pos = np.arange(len(bars))\n",
    "\n",
    "plt.bar(y_pos , height , color=['violet', 'cyan', 'dodgerblue', 'green', 'yellow' , 'orange' , 'red'])\n",
    "\n",
    "plt.xticks(y_pos, bars , rotation='vertical')\n",
    "\n",
    "plt.show()"
   ]
  },
  {
   "cell_type": "markdown",
   "metadata": {},
   "source": [
    "We cannot see a pattern in these but we can clearly observe that max posts are coming on Thursday and minimum on Monday."
   ]
  },
  {
   "cell_type": "code",
   "execution_count": 20,
   "metadata": {},
   "outputs": [
    {
     "name": "stdout",
     "output_type": "stream",
     "text": [
      "count    602813.000000\n",
      "mean        163.653299\n",
      "std         375.782004\n",
      "min           0.000000\n",
      "25%          38.000000\n",
      "50%          97.000000\n",
      "75%         172.000000\n",
      "max       21480.000000\n",
      "Name: Post_length_char_count, dtype: float64\n"
     ]
    },
    {
     "data": {
      "image/png": "[encoded data removed]",
      "text/plain": [
       "<matplotlib.figure.Figure at 0x24605774908>"
      ]
     },
     "metadata": {},
     "output_type": "display_data"
    }
   ],
   "source": [
    "print(df_train['Post_length_char_count'].describe())\n",
    "sns.distplot(df_train['Post_length_char_count'], color='g',  hist_kws={'alpha': 0.4});"
   ]
  },
  {
   "cell_type": "code",
   "execution_count": 21,
   "metadata": {},
   "outputs": [
    {
     "name": "stdout",
     "output_type": "stream",
     "text": [
      "count    602813.000000\n",
      "mean        117.301825\n",
      "std         951.304620\n",
      "min           1.000000\n",
      "25%           2.000000\n",
      "50%          13.000000\n",
      "75%          61.000000\n",
      "max      144860.000000\n",
      "Name: Post_share_count, dtype: float64\n"
     ]
    },
    {
     "data": {
      "image/png": "[encoded data removed]",
      "text/plain": [
       "<matplotlib.figure.Figure at 0x24605774cc0>"
      ]
     },
     "metadata": {},
     "output_type": "display_data"
    }
   ],
   "source": [
    "print(df_train['Post_share_count'].describe())\n",
    "sns.distplot(df_train['Post_share_count'], color='g', hist_kws={'alpha': 0.4});"
   ]
  },
  {
   "cell_type": "code",
   "execution_count": 22,
   "metadata": {},
   "outputs": [
    {
     "name": "stdout",
     "output_type": "stream",
     "text": [
      "count    602813.000000\n",
      "mean         55.862191\n",
      "std         137.552591\n",
      "min           0.000000\n",
      "25%           2.000000\n",
      "50%          11.000000\n",
      "75%          46.000000\n",
      "max        2495.000000\n",
      "Name: CC1, dtype: float64\n"
     ]
    },
    {
     "data": {
      "image/png": "[encoded data removed]",
      "text/plain": [
       "<matplotlib.figure.Figure at 0x246066a6b38>"
      ]
     },
     "metadata": {},
     "output_type": "display_data"
    }
   ],
   "source": [
    "print(df_train['CC1'].describe())\n",
    "sns.distplot(df_train['CC1'], color='g');"
   ]
  },
  {
   "cell_type": "code",
   "execution_count": 23,
   "metadata": {},
   "outputs": [
    {
     "name": "stdout",
     "output_type": "stream",
     "text": [
      "count    602813.000000\n",
      "mean         21.832324\n",
      "std          75.211108\n",
      "min           0.000000\n",
      "25%           0.000000\n",
      "50%           2.000000\n",
      "75%          11.000000\n",
      "max        2131.000000\n",
      "Name: CC2, dtype: float64\n"
     ]
    },
    {
     "data": {
      "text/plain": [
       "<matplotlib.axes._subplots.AxesSubplot at 0x246062dc3c8>"
      ]
     },
     "execution_count": 23,
     "metadata": {},
     "output_type": "execute_result"
    },
    {
     "data": {
      "image/png": "[encoded data removed]",
      "text/plain": [
       "<matplotlib.figure.Figure at 0x246063e4860>"
      ]
     },
     "metadata": {},
     "output_type": "display_data"
    }
   ],
   "source": [
    "print(df_train['CC2'].describe())\n",
    "sns.distplot(df_train['CC2'], color='b')"
   ]
  },
  {
   "cell_type": "code",
   "execution_count": 24,
   "metadata": {},
   "outputs": [
    {
     "name": "stdout",
     "output_type": "stream",
     "text": [
      "count    602813.000000\n",
      "mean         19.975198\n",
      "std          73.096146\n",
      "min           0.000000\n",
      "25%           0.000000\n",
      "50%           0.000000\n",
      "75%           9.000000\n",
      "max        2162.000000\n",
      "Name: CC3, dtype: float64\n"
     ]
    },
    {
     "data": {
      "text/plain": [
       "<matplotlib.axes._subplots.AxesSubplot at 0x2460666fcc0>"
      ]
     },
     "execution_count": 24,
     "metadata": {},
     "output_type": "execute_result"
    },
    {
     "data": {
      "image/png": "[encoded data removed]",
      "text/plain": [
       "<matplotlib.figure.Figure at 0x24606772470>"
      ]
     },
     "metadata": {},
     "output_type": "display_data"
    }
   ],
   "source": [
    "print(df_train['CC3'].describe())\n",
    "sns.distplot(df_train['CC3'], color='r')"
   ]
  },
  {
   "cell_type": "code",
   "execution_count": 25,
   "metadata": {},
   "outputs": [
    {
     "data": {
      "image/png": "[encoded data removed]",
      "text/plain": [
       "<matplotlib.figure.Figure at 0x2460684fd68>"
      ]
     },
     "metadata": {},
     "output_type": "display_data"
    }
   ],
   "source": [
    "a = df_train[[ 'c1', 'c2', 'c3', 'c4',\n",
    "       'c5', 'c6', 'c7', 'c8', 'c9', 'c10', 'c11', 'c12', 'c13', 'c14',\n",
    "       'c15', 'c16', 'c17', 'c18', 'c19', 'c20', 'c21', 'c22', 'c23',\n",
    "       'c24', 'c25', 'CC1', 'CC2', 'CC3', 'CC4', 'CC5']]\n",
    "\n",
    "plt.subplots(figsize=(20,15))\n",
    "\n",
    "df = pd.DataFrame(a)\n",
    "\n",
    "corr = df.corr()\n",
    "sns.heatmap(corr, \n",
    "        xticklabels=df.columns,\n",
    "        yticklabels=df.columns)\n",
    "\n",
    "plt.show()"
   ]
  },
  {
   "cell_type": "markdown",
   "metadata": {},
   "source": [
    "From the above heat map, we can understand that ‘c21’ has least values as compared to all other columns. ‘c24’ also have very low values but slightly higher as compared to ‘c21’. ‘c11’ have highest value as compared to every other column. ‘c6’ also contains higher set of values but not higher than ‘c11’. Data in columns ‘CC1’ , ‘CC2’ , ‘CC3’ and ‘CC4’ are evenly distributed with no column have regular high or low data as compared to other columns."
   ]
  },
  {
   "cell_type": "markdown",
   "metadata": {},
   "source": [
    "Finding corelation between given 25 generic columns."
   ]
  },
  {
   "cell_type": "code",
   "execution_count": 30,
   "metadata": {
    "collapsed": true
   },
   "outputs": [],
   "source": [
    "generic_col = [\"c1\", \"c2\", \"c3\", \"c4\", \"c5\", \"c6\", \"c7\", \"c8\", \"c9\", \"c10\" ,\n",
    "              \"c11\", \"c12\", \"c13\", \"c14\", \"c15\", \"c16\", \"c17\", \"c18\", \"c19\", \"c20\" ,\n",
    "              \"c21\", \"c22\", \"c23\", \"c24\", \"c25\"]"
   ]
  },
  {
   "cell_type": "code",
   "execution_count": 31,
   "metadata": {},
   "outputs": [
    {
     "data": {
      "text/html": [
       "<div>\n",
       "<style>\n",
       "    .dataframe thead tr:only-child th {\n",
       "        text-align: right;\n",
       "    }\n",
       "\n",
       "    .dataframe thead th {\n",
       "        text-align: left;\n",
       "    }\n",
       "\n",
       "    .dataframe tbody tr th {\n",
       "        vertical-align: top;\n",
       "    }\n",
       "</style>\n",
       "<table border=\"1\" class=\"dataframe\">\n",
       "  <thead>\n",
       "    <tr style=\"text-align: right;\">\n",
       "      <th></th>\n",
       "      <th>c1</th>\n",
       "      <th>c2</th>\n",
       "      <th>c3</th>\n",
       "      <th>c4</th>\n",
       "      <th>c5</th>\n",
       "      <th>c6</th>\n",
       "      <th>c7</th>\n",
       "      <th>c8</th>\n",
       "      <th>c9</th>\n",
       "      <th>c10</th>\n",
       "      <th>...</th>\n",
       "      <th>c16</th>\n",
       "      <th>c17</th>\n",
       "      <th>c18</th>\n",
       "      <th>c19</th>\n",
       "      <th>c20</th>\n",
       "      <th>c21</th>\n",
       "      <th>c22</th>\n",
       "      <th>c23</th>\n",
       "      <th>c24</th>\n",
       "      <th>c25</th>\n",
       "    </tr>\n",
       "  </thead>\n",
       "  <tbody>\n",
       "    <tr>\n",
       "      <th>count</th>\n",
       "      <td>602813.000000</td>\n",
       "      <td>602813.000000</td>\n",
       "      <td>602813.000000</td>\n",
       "      <td>602813.000000</td>\n",
       "      <td>602813.000000</td>\n",
       "      <td>602813.000000</td>\n",
       "      <td>602813.000000</td>\n",
       "      <td>602813.000000</td>\n",
       "      <td>602813.000000</td>\n",
       "      <td>602813.000000</td>\n",
       "      <td>...</td>\n",
       "      <td>602813.000000</td>\n",
       "      <td>602813.000000</td>\n",
       "      <td>602813.000000</td>\n",
       "      <td>602813.000000</td>\n",
       "      <td>602813.000000</td>\n",
       "      <td>602813.000000</td>\n",
       "      <td>602813.000000</td>\n",
       "      <td>602813.000000</td>\n",
       "      <td>602813.000000</td>\n",
       "      <td>602813.000000</td>\n",
       "    </tr>\n",
       "    <tr>\n",
       "      <th>mean</th>\n",
       "      <td>0.647484</td>\n",
       "      <td>477.611931</td>\n",
       "      <td>55.862191</td>\n",
       "      <td>35.350722</td>\n",
       "      <td>67.970492</td>\n",
       "      <td>0.093704</td>\n",
       "      <td>360.645263</td>\n",
       "      <td>21.832324</td>\n",
       "      <td>7.191323</td>\n",
       "      <td>40.655821</td>\n",
       "      <td>...</td>\n",
       "      <td>0.637869</td>\n",
       "      <td>432.107557</td>\n",
       "      <td>52.712841</td>\n",
       "      <td>33.713858</td>\n",
       "      <td>63.399954</td>\n",
       "      <td>-303.691939</td>\n",
       "      <td>355.070838</td>\n",
       "      <td>1.857127</td>\n",
       "      <td>-2.154098</td>\n",
       "      <td>56.575764</td>\n",
       "    </tr>\n",
       "    <tr>\n",
       "      <th>std</th>\n",
       "      <td>13.109703</td>\n",
       "      <td>531.568316</td>\n",
       "      <td>86.496000</td>\n",
       "      <td>68.596065</td>\n",
       "      <td>82.578215</td>\n",
       "      <td>4.429349</td>\n",
       "      <td>427.060351</td>\n",
       "      <td>35.877491</td>\n",
       "      <td>19.721355</td>\n",
       "      <td>52.121184</td>\n",
       "      <td>...</td>\n",
       "      <td>12.840748</td>\n",
       "      <td>488.500363</td>\n",
       "      <td>80.986855</td>\n",
       "      <td>64.795633</td>\n",
       "      <td>76.999296</td>\n",
       "      <td>368.772680</td>\n",
       "      <td>425.727758</td>\n",
       "      <td>11.986586</td>\n",
       "      <td>11.768231</td>\n",
       "      <td>74.411902</td>\n",
       "    </tr>\n",
       "    <tr>\n",
       "      <th>min</th>\n",
       "      <td>0.000000</td>\n",
       "      <td>0.000000</td>\n",
       "      <td>0.000000</td>\n",
       "      <td>0.000000</td>\n",
       "      <td>0.000000</td>\n",
       "      <td>0.000000</td>\n",
       "      <td>0.000000</td>\n",
       "      <td>0.000000</td>\n",
       "      <td>0.000000</td>\n",
       "      <td>0.000000</td>\n",
       "      <td>...</td>\n",
       "      <td>0.000000</td>\n",
       "      <td>0.000000</td>\n",
       "      <td>0.000000</td>\n",
       "      <td>0.000000</td>\n",
       "      <td>0.000000</td>\n",
       "      <td>-2038.000000</td>\n",
       "      <td>-204.000000</td>\n",
       "      <td>-584.666667</td>\n",
       "      <td>-1411.000000</td>\n",
       "      <td>0.000000</td>\n",
       "    </tr>\n",
       "    <tr>\n",
       "      <th>25%</th>\n",
       "      <td>0.000000</td>\n",
       "      <td>47.000000</td>\n",
       "      <td>5.419108</td>\n",
       "      <td>2.000000</td>\n",
       "      <td>8.032349</td>\n",
       "      <td>0.000000</td>\n",
       "      <td>38.000000</td>\n",
       "      <td>2.037736</td>\n",
       "      <td>0.000000</td>\n",
       "      <td>4.661879</td>\n",
       "      <td>...</td>\n",
       "      <td>0.000000</td>\n",
       "      <td>43.000000</td>\n",
       "      <td>5.146154</td>\n",
       "      <td>2.000000</td>\n",
       "      <td>7.555776</td>\n",
       "      <td>-428.000000</td>\n",
       "      <td>38.000000</td>\n",
       "      <td>-0.144578</td>\n",
       "      <td>-2.000000</td>\n",
       "      <td>6.557562</td>\n",
       "    </tr>\n",
       "    <tr>\n",
       "      <th>50%</th>\n",
       "      <td>0.000000</td>\n",
       "      <td>251.000000</td>\n",
       "      <td>23.647407</td>\n",
       "      <td>12.000000</td>\n",
       "      <td>33.771923</td>\n",
       "      <td>0.000000</td>\n",
       "      <td>175.000000</td>\n",
       "      <td>8.759322</td>\n",
       "      <td>2.000000</td>\n",
       "      <td>18.702148</td>\n",
       "      <td>...</td>\n",
       "      <td>0.000000</td>\n",
       "      <td>231.000000</td>\n",
       "      <td>21.677140</td>\n",
       "      <td>12.000000</td>\n",
       "      <td>31.014726</td>\n",
       "      <td>-139.000000</td>\n",
       "      <td>164.000000</td>\n",
       "      <td>0.233365</td>\n",
       "      <td>0.000000</td>\n",
       "      <td>25.481725</td>\n",
       "    </tr>\n",
       "    <tr>\n",
       "      <th>75%</th>\n",
       "      <td>0.000000</td>\n",
       "      <td>760.000000</td>\n",
       "      <td>71.316946</td>\n",
       "      <td>41.000000</td>\n",
       "      <td>103.316009</td>\n",
       "      <td>0.000000</td>\n",
       "      <td>552.000000</td>\n",
       "      <td>27.380410</td>\n",
       "      <td>7.000000</td>\n",
       "      <td>59.479737</td>\n",
       "      <td>...</td>\n",
       "      <td>0.000000</td>\n",
       "      <td>683.000000</td>\n",
       "      <td>68.197368</td>\n",
       "      <td>39.000000</td>\n",
       "      <td>96.721385</td>\n",
       "      <td>-32.000000</td>\n",
       "      <td>539.000000</td>\n",
       "      <td>1.737949</td>\n",
       "      <td>0.000000</td>\n",
       "      <td>81.121707</td>\n",
       "    </tr>\n",
       "    <tr>\n",
       "      <th>max</th>\n",
       "      <td>2341.000000</td>\n",
       "      <td>2495.000000</td>\n",
       "      <td>2341.000000</td>\n",
       "      <td>2347.000000</td>\n",
       "      <td>1023.765690</td>\n",
       "      <td>1923.000000</td>\n",
       "      <td>2131.000000</td>\n",
       "      <td>1923.000000</td>\n",
       "      <td>1923.000000</td>\n",
       "      <td>809.157703</td>\n",
       "      <td>...</td>\n",
       "      <td>1923.000000</td>\n",
       "      <td>2184.000000</td>\n",
       "      <td>1923.000000</td>\n",
       "      <td>2106.000000</td>\n",
       "      <td>900.068435</td>\n",
       "      <td>1923.000000</td>\n",
       "      <td>2131.000000</td>\n",
       "      <td>1923.000000</td>\n",
       "      <td>1923.000000</td>\n",
       "      <td>1386.397760</td>\n",
       "    </tr>\n",
       "  </tbody>\n",
       "</table>\n",
       "<p>8 rows × 25 columns</p>\n",
       "</div>"
      ],
      "text/plain": [
       "                  c1             c2             c3             c4  \\\n",
       "count  602813.000000  602813.000000  602813.000000  602813.000000   \n",
       "mean        0.647484     477.611931      55.862191      35.350722   \n",
       "std        13.109703     531.568316      86.496000      68.596065   \n",
       "min         0.000000       0.000000       0.000000       0.000000   \n",
       "25%         0.000000      47.000000       5.419108       2.000000   \n",
       "50%         0.000000     251.000000      23.647407      12.000000   \n",
       "75%         0.000000     760.000000      71.316946      41.000000   \n",
       "max      2341.000000    2495.000000    2341.000000    2347.000000   \n",
       "\n",
       "                  c5             c6             c7             c8  \\\n",
       "count  602813.000000  602813.000000  602813.000000  602813.000000   \n",
       "mean       67.970492       0.093704     360.645263      21.832324   \n",
       "std        82.578215       4.429349     427.060351      35.877491   \n",
       "min         0.000000       0.000000       0.000000       0.000000   \n",
       "25%         8.032349       0.000000      38.000000       2.037736   \n",
       "50%        33.771923       0.000000     175.000000       8.759322   \n",
       "75%       103.316009       0.000000     552.000000      27.380410   \n",
       "max      1023.765690    1923.000000    2131.000000    1923.000000   \n",
       "\n",
       "                  c9            c10      ...                  c16  \\\n",
       "count  602813.000000  602813.000000      ...        602813.000000   \n",
       "mean        7.191323      40.655821      ...             0.637869   \n",
       "std        19.721355      52.121184      ...            12.840748   \n",
       "min         0.000000       0.000000      ...             0.000000   \n",
       "25%         0.000000       4.661879      ...             0.000000   \n",
       "50%         2.000000      18.702148      ...             0.000000   \n",
       "75%         7.000000      59.479737      ...             0.000000   \n",
       "max      1923.000000     809.157703      ...          1923.000000   \n",
       "\n",
       "                 c17            c18            c19            c20  \\\n",
       "count  602813.000000  602813.000000  602813.000000  602813.000000   \n",
       "mean      432.107557      52.712841      33.713858      63.399954   \n",
       "std       488.500363      80.986855      64.795633      76.999296   \n",
       "min         0.000000       0.000000       0.000000       0.000000   \n",
       "25%        43.000000       5.146154       2.000000       7.555776   \n",
       "50%       231.000000      21.677140      12.000000      31.014726   \n",
       "75%       683.000000      68.197368      39.000000      96.721385   \n",
       "max      2184.000000    1923.000000    2106.000000     900.068435   \n",
       "\n",
       "                 c21            c22            c23            c24  \\\n",
       "count  602813.000000  602813.000000  602813.000000  602813.000000   \n",
       "mean     -303.691939     355.070838       1.857127      -2.154098   \n",
       "std       368.772680     425.727758      11.986586      11.768231   \n",
       "min     -2038.000000    -204.000000    -584.666667   -1411.000000   \n",
       "25%      -428.000000      38.000000      -0.144578      -2.000000   \n",
       "50%      -139.000000     164.000000       0.233365       0.000000   \n",
       "75%       -32.000000     539.000000       1.737949       0.000000   \n",
       "max      1923.000000    2131.000000    1923.000000    1923.000000   \n",
       "\n",
       "                 c25  \n",
       "count  602813.000000  \n",
       "mean       56.575764  \n",
       "std        74.411902  \n",
       "min         0.000000  \n",
       "25%         6.557562  \n",
       "50%        25.481725  \n",
       "75%        81.121707  \n",
       "max      1386.397760  \n",
       "\n",
       "[8 rows x 25 columns]"
      ]
     },
     "execution_count": 31,
     "metadata": {},
     "output_type": "execute_result"
    }
   ],
   "source": [
    "df_train[generic_col].describe()"
   ]
  },
  {
   "cell_type": "code",
   "execution_count": null,
   "metadata": {
    "collapsed": true
   },
   "outputs": [],
   "source": []
  }
 ],
 "metadata": {
  "kernelspec": {
   "display_name": "Python 3",
   "language": "python",
   "name": "python3"
  },
  "language_info": {
   "codemirror_mode": {
    "name": "ipython",
    "version": 3
   },
   "file_extension": ".py",
   "mimetype": "text/x-python",
   "name": "python",
   "nbconvert_exporter": "python",
   "pygments_lexer": "ipython3",
   "version": "3.6.3"
  }
 },
 "nbformat": 4,
 "nbformat_minor": 2
}
